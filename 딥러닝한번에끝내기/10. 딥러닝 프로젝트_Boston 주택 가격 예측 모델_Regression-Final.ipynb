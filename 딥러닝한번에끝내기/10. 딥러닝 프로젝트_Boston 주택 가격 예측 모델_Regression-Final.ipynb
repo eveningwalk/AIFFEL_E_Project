{
 "cells": [
  {
   "cell_type": "markdown",
   "id": "38803729",
   "metadata": {},
   "source": [
    "## Regrssion Model"
   ]
  },
  {
   "cell_type": "code",
   "execution_count": 1,
   "id": "3af3cb93",
   "metadata": {},
   "outputs": [],
   "source": [
    "from tensorflow.keras import models, layers\n",
    "import matplotlib.pyplot as plt\n",
    "from sklearn.model_selection import train_test_split"
   ]
  },
  {
   "cell_type": "code",
   "execution_count": 2,
   "id": "96b2ee34",
   "metadata": {},
   "outputs": [
    {
     "name": "stdout",
     "output_type": "stream",
     "text": [
      "404\n",
      "102\n"
     ]
    }
   ],
   "source": [
    "# keras.datasets 안에 boston_housing 데이터셋을 로드합니다.\n",
    "from keras.datasets import boston_housing\n",
    "\n",
    "(train_data, train_labels), (test_data, test_labels) = boston_housing.load_data()\n",
    "\n",
    "# 데이터셋의 크기를 확인합니다.\n",
    "print(len(train_data))\n",
    "print(len(test_data))"
   ]
  },
  {
   "cell_type": "code",
   "execution_count": 3,
   "id": "0b705a52",
   "metadata": {},
   "outputs": [],
   "source": [
    "# 문제 1-1: 데이터셋의 전처리를 위해 표준화 작업을 수행합니다.\n",
    "# 먼저 입력 데이터의 각 특성의 평균을 뺍니다.\n",
    "# [[YOUR CODE]]\n",
    "mean = train_data.mean(axis =0)\n",
    "train_data = train_data - mean\n",
    "\n",
    "# 평균을 뺀 입력 데이터에서 표준편차를 나눕니다.\n",
    "# 데이터 특성의 중앙이 0에 가깝게 만들고, 표준편차가 1이 되게 만듭니다.\n",
    "# [[YOUR CODE]]\n",
    "std = train_data.std(axis = 0)\n",
    "train_data = train_data/std\n",
    "\n",
    "\n",
    "# 테스트 데이터셋도 마찬가지로 평균을 빼고, 표준편차로 나눕니다.\n",
    "# [[YOUR CODE]]\n",
    "test_data = test_data-mean\n",
    "test_data = test_data/std"
   ]
  },
  {
   "cell_type": "markdown",
   "id": "4e8a989c",
   "metadata": {},
   "source": [
    "- 주택 가격 예측을 위한 딥러닝 모델을 구성하고 컴파일합니다. \n",
    "- Sequential() 함수를 이용한 Sequential API 방법으로 딥러닝 모델을 구성해 보세요."
   ]
  },
  {
   "cell_type": "markdown",
   "id": "38c86eb7",
   "metadata": {},
   "source": [
    "### 모델 구성 및 컴파일"
   ]
  },
  {
   "cell_type": "code",
   "execution_count": 4,
   "id": "88655809",
   "metadata": {
    "scrolled": true
   },
   "outputs": [],
   "source": [
    "# 문제 1-2: 주택 가격 예측을 위한 딥러닝 모델 구성 및 컴파일합니다.\n",
    "# input_shape은 (train_data.shape[1], )으로 구성합니다.\n",
    "# 회귀(예측)을 위한 모델이므로 loss를 mse, metrics를 mae로 사용합니다.\n",
    "# [[YOUR CODE]]\n",
    "\n",
    "def build_model():\n",
    "    model = models.Sequential()\n",
    "    #model.add(layers.Input(shape=(5252,)))\n",
    "    model.add(layers.Dense(64 , activation = 'relu'))\n",
    "    model.add(layers.Dense(128 , activation = 'relu'))\n",
    "    model.add(layers.Dense(1))\n",
    "    return model"
   ]
  },
  {
   "cell_type": "code",
   "execution_count": 5,
   "id": "e8a1a98d",
   "metadata": {
    "scrolled": false
   },
   "outputs": [],
   "source": [
    "model = build_model()\n",
    "model.compile(loss='mse',\n",
    "              optimizer='SGD',\n",
    "              metrics=['mae'])"
   ]
  },
  {
   "cell_type": "markdown",
   "id": "7fe95327",
   "metadata": {},
   "source": [
    "### 모델 학습"
   ]
  },
  {
   "cell_type": "code",
   "execution_count": 6,
   "id": "06026200",
   "metadata": {},
   "outputs": [
    {
     "name": "stdout",
     "output_type": "stream",
     "text": [
      "Epoch 1/60\n",
      "9/9 [==============================] - 1s 19ms/step - loss: 311.9570 - mae: 14.9882 - val_loss: 512.0542 - val_mae: 20.5395\n",
      "Epoch 2/60\n",
      "9/9 [==============================] - 0s 5ms/step - loss: 220.0167 - mae: 11.1785 - val_loss: 468.7361 - val_mae: 19.6057\n",
      "Epoch 3/60\n",
      "9/9 [==============================] - 0s 5ms/step - loss: 204.2078 - mae: 10.7297 - val_loss: 171.6781 - val_mae: 9.7229\n",
      "Epoch 4/60\n",
      "9/9 [==============================] - 0s 5ms/step - loss: 88.8930 - mae: 6.8540 - val_loss: 19.2665 - val_mae: 3.1544\n",
      "Epoch 5/60\n",
      "9/9 [==============================] - 0s 5ms/step - loss: 21.7624 - mae: 3.1978 - val_loss: 17.8497 - val_mae: 3.0290\n",
      "Epoch 6/60\n",
      "9/9 [==============================] - 0s 5ms/step - loss: 19.9117 - mae: 3.1534 - val_loss: 24.4201 - val_mae: 3.6172\n",
      "Epoch 7/60\n",
      "9/9 [==============================] - 0s 5ms/step - loss: 18.4701 - mae: 2.9004 - val_loss: 16.4515 - val_mae: 3.1169\n",
      "Epoch 8/60\n",
      "9/9 [==============================] - 0s 5ms/step - loss: 14.5385 - mae: 2.6835 - val_loss: 9.6246 - val_mae: 2.3148\n",
      "Epoch 9/60\n",
      "9/9 [==============================] - 0s 5ms/step - loss: 17.7006 - mae: 2.9084 - val_loss: 10.8807 - val_mae: 2.5216\n",
      "Epoch 10/60\n",
      "9/9 [==============================] - 0s 5ms/step - loss: 12.8483 - mae: 2.3476 - val_loss: 30.7893 - val_mae: 4.2078\n",
      "Epoch 11/60\n",
      "9/9 [==============================] - 0s 5ms/step - loss: 13.6109 - mae: 2.5219 - val_loss: 8.7361 - val_mae: 2.2918\n",
      "Epoch 12/60\n",
      "9/9 [==============================] - 0s 5ms/step - loss: 8.7260 - mae: 2.0303 - val_loss: 7.3944 - val_mae: 2.0759\n",
      "Epoch 13/60\n",
      "9/9 [==============================] - 0s 5ms/step - loss: 10.9739 - mae: 2.2027 - val_loss: 12.2273 - val_mae: 2.6568\n",
      "Epoch 14/60\n",
      "9/9 [==============================] - 0s 5ms/step - loss: 9.6242 - mae: 2.2319 - val_loss: 9.0084 - val_mae: 2.2613\n",
      "Epoch 15/60\n",
      "9/9 [==============================] - 0s 5ms/step - loss: 8.4407 - mae: 1.9553 - val_loss: 7.9316 - val_mae: 2.1414\n",
      "Epoch 16/60\n",
      "9/9 [==============================] - 0s 5ms/step - loss: 8.5882 - mae: 2.0820 - val_loss: 17.6180 - val_mae: 3.1521\n",
      "Epoch 17/60\n",
      "9/9 [==============================] - 0s 5ms/step - loss: 9.9606 - mae: 2.1770 - val_loss: 32.3782 - val_mae: 4.0917\n",
      "Epoch 18/60\n",
      "9/9 [==============================] - 0s 5ms/step - loss: 15.3100 - mae: 2.6848 - val_loss: 8.5139 - val_mae: 2.2358\n",
      "Epoch 19/60\n",
      "9/9 [==============================] - 0s 5ms/step - loss: 12.3320 - mae: 2.5097 - val_loss: 8.2850 - val_mae: 2.2420\n",
      "Epoch 20/60\n",
      "9/9 [==============================] - 0s 5ms/step - loss: 16.8196 - mae: 2.8568 - val_loss: 9.6172 - val_mae: 2.3673\n",
      "Epoch 21/60\n",
      "9/9 [==============================] - 0s 5ms/step - loss: 15.0075 - mae: 2.6470 - val_loss: 13.8533 - val_mae: 2.7874\n",
      "Epoch 22/60\n",
      "9/9 [==============================] - 0s 5ms/step - loss: 26.0187 - mae: 3.4784 - val_loss: 12.6674 - val_mae: 2.5259\n",
      "Epoch 23/60\n",
      "9/9 [==============================] - 0s 5ms/step - loss: 13.5779 - mae: 2.6647 - val_loss: 8.9848 - val_mae: 2.3510\n",
      "Epoch 24/60\n",
      "9/9 [==============================] - 0s 5ms/step - loss: 10.5125 - mae: 2.3169 - val_loss: 6.6482 - val_mae: 2.0650\n",
      "Epoch 25/60\n",
      "9/9 [==============================] - 0s 5ms/step - loss: 6.5604 - mae: 1.8337 - val_loss: 6.7285 - val_mae: 2.0648\n",
      "Epoch 26/60\n",
      "9/9 [==============================] - 0s 5ms/step - loss: 6.9855 - mae: 1.7904 - val_loss: 20.1977 - val_mae: 3.4602\n",
      "Epoch 27/60\n",
      "9/9 [==============================] - 0s 5ms/step - loss: 7.5140 - mae: 1.9117 - val_loss: 21.1593 - val_mae: 3.3194\n",
      "Epoch 28/60\n",
      "9/9 [==============================] - 0s 5ms/step - loss: 15.4765 - mae: 2.8509 - val_loss: 9.2736 - val_mae: 2.3470\n",
      "Epoch 29/60\n",
      "9/9 [==============================] - 0s 5ms/step - loss: 9.2203 - mae: 2.1001 - val_loss: 12.4001 - val_mae: 2.8164\n",
      "Epoch 30/60\n",
      "9/9 [==============================] - 0s 5ms/step - loss: 13.2080 - mae: 2.6123 - val_loss: 7.3207 - val_mae: 2.1175\n",
      "Epoch 31/60\n",
      "9/9 [==============================] - 0s 5ms/step - loss: 6.4136 - mae: 1.8123 - val_loss: 13.3828 - val_mae: 2.8187\n",
      "Epoch 32/60\n",
      "9/9 [==============================] - 0s 5ms/step - loss: 7.9022 - mae: 2.1202 - val_loss: 7.6021 - val_mae: 2.1796\n",
      "Epoch 33/60\n",
      "9/9 [==============================] - 0s 5ms/step - loss: 8.8910 - mae: 1.9311 - val_loss: 9.6318 - val_mae: 2.2782\n",
      "Epoch 34/60\n",
      "9/9 [==============================] - 0s 5ms/step - loss: 8.8615 - mae: 1.9246 - val_loss: 7.5744 - val_mae: 2.0806\n",
      "Epoch 35/60\n",
      "9/9 [==============================] - 0s 5ms/step - loss: 6.8085 - mae: 1.7626 - val_loss: 7.1593 - val_mae: 2.1063\n",
      "Epoch 36/60\n",
      "9/9 [==============================] - 0s 5ms/step - loss: 5.7527 - mae: 1.6929 - val_loss: 12.4870 - val_mae: 2.6879\n",
      "Epoch 37/60\n",
      "9/9 [==============================] - 0s 5ms/step - loss: 5.8946 - mae: 1.7518 - val_loss: 7.5070 - val_mae: 2.1295\n",
      "Epoch 38/60\n",
      "9/9 [==============================] - 0s 5ms/step - loss: 5.0573 - mae: 1.6341 - val_loss: 6.7512 - val_mae: 2.0351\n",
      "Epoch 39/60\n",
      "9/9 [==============================] - 0s 5ms/step - loss: 7.8719 - mae: 1.9341 - val_loss: 14.4484 - val_mae: 3.0808\n",
      "Epoch 40/60\n",
      "9/9 [==============================] - 0s 5ms/step - loss: 10.3469 - mae: 2.3285 - val_loss: 21.2216 - val_mae: 3.5899\n",
      "Epoch 41/60\n",
      "9/9 [==============================] - 0s 5ms/step - loss: 6.2943 - mae: 1.7533 - val_loss: 7.0349 - val_mae: 2.0632\n",
      "Epoch 42/60\n",
      "9/9 [==============================] - 0s 5ms/step - loss: 7.1150 - mae: 1.9102 - val_loss: 12.5153 - val_mae: 2.5393\n",
      "Epoch 43/60\n",
      "9/9 [==============================] - 0s 5ms/step - loss: 11.0282 - mae: 2.3957 - val_loss: 9.1314 - val_mae: 2.3048\n",
      "Epoch 44/60\n",
      "9/9 [==============================] - 0s 6ms/step - loss: 9.5750 - mae: 2.3383 - val_loss: 8.9906 - val_mae: 2.2931\n",
      "Epoch 45/60\n",
      "9/9 [==============================] - 0s 5ms/step - loss: 5.9731 - mae: 1.7411 - val_loss: 10.6704 - val_mae: 2.6346\n",
      "Epoch 46/60\n",
      "9/9 [==============================] - 0s 5ms/step - loss: 4.9476 - mae: 1.6755 - val_loss: 12.3966 - val_mae: 2.6798\n",
      "Epoch 47/60\n",
      "9/9 [==============================] - 0s 5ms/step - loss: 4.1175 - mae: 1.4494 - val_loss: 8.0487 - val_mae: 2.2305\n",
      "Epoch 48/60\n",
      "9/9 [==============================] - 0s 5ms/step - loss: 6.9066 - mae: 1.9484 - val_loss: 9.3805 - val_mae: 2.2372\n",
      "Epoch 49/60\n",
      "9/9 [==============================] - 0s 5ms/step - loss: 4.7437 - mae: 1.5720 - val_loss: 7.6458 - val_mae: 2.1996\n",
      "Epoch 50/60\n",
      "9/9 [==============================] - 0s 5ms/step - loss: 4.7319 - mae: 1.5369 - val_loss: 11.9966 - val_mae: 2.6539\n",
      "Epoch 51/60\n",
      "9/9 [==============================] - 0s 5ms/step - loss: 5.0735 - mae: 1.6942 - val_loss: 8.5001 - val_mae: 2.1890\n",
      "Epoch 52/60\n",
      "9/9 [==============================] - 0s 5ms/step - loss: 5.4425 - mae: 1.6976 - val_loss: 23.1001 - val_mae: 3.4907\n",
      "Epoch 53/60\n",
      "9/9 [==============================] - 0s 5ms/step - loss: 15.0710 - mae: 2.7990 - val_loss: 11.1436 - val_mae: 2.3230\n",
      "Epoch 54/60\n",
      "9/9 [==============================] - 0s 5ms/step - loss: 10.6142 - mae: 1.9980 - val_loss: 7.6508 - val_mae: 2.1525\n",
      "Epoch 55/60\n",
      "9/9 [==============================] - 0s 5ms/step - loss: 4.3733 - mae: 1.5297 - val_loss: 7.7880 - val_mae: 2.1391\n",
      "Epoch 56/60\n",
      "9/9 [==============================] - 0s 5ms/step - loss: 4.4159 - mae: 1.5480 - val_loss: 7.0243 - val_mae: 2.0261\n",
      "Epoch 57/60\n",
      "9/9 [==============================] - 0s 5ms/step - loss: 4.6895 - mae: 1.5709 - val_loss: 15.0571 - val_mae: 3.0186\n",
      "Epoch 58/60\n",
      "9/9 [==============================] - 0s 5ms/step - loss: 4.6437 - mae: 1.6153 - val_loss: 7.6738 - val_mae: 2.1374\n",
      "Epoch 59/60\n",
      "9/9 [==============================] - 0s 5ms/step - loss: 3.9041 - mae: 1.4251 - val_loss: 8.1913 - val_mae: 2.2335\n",
      "Epoch 60/60\n",
      "9/9 [==============================] - 0s 5ms/step - loss: 4.1615 - mae: 1.4842 - val_loss: 10.0441 - val_mae: 2.3111\n"
     ]
    }
   ],
   "source": [
    "# 문제 1-3: 예측을 위한 딥러닝 모델을 학습합니다.\n",
    "# [[YOUR CODE]]\n",
    "x_train, x_val, y_train, y_val = train_test_split(train_data, train_labels,\n",
    "                                                  test_size=0.3,\n",
    "                                                  random_state=123)\n",
    "\n",
    "history = model.fit(x_train, y_train, epochs=60,\n",
    "                     validation_data=(x_val, y_val))"
   ]
  },
  {
   "cell_type": "code",
   "execution_count": 7,
   "id": "00d4aad2",
   "metadata": {
    "scrolled": true
   },
   "outputs": [
    {
     "data": {
      "image/png": "[encoded data removed]",
      "text/plain": [
       "<Figure size 864x360 with 2 Axes>"
      ]
     },
     "metadata": {},
     "output_type": "display_data"
    }
   ],
   "source": [
    "# 모델 학습 히스토리에서 loss, val_loss, mae, val_mae를 차트로 보여줍니다.\n",
    "plt.style.use('seaborn-white')\n",
    "\n",
    "history_dict = history.history\n",
    "\n",
    "loss = history_dict['loss']\n",
    "val_loss = history_dict['val_loss']\n",
    "\n",
    "epochs = range(1, len(loss) + 1)\n",
    "fig = plt.figure(figsize=(12, 5))\n",
    "\n",
    "ax1 = fig.add_subplot(1, 2, 1)\n",
    "ax1.plot(epochs, loss, 'b-', label='train_loss')\n",
    "ax1.plot(epochs, val_loss, 'r-', label='val_loss')\n",
    "ax1.set_title('Train and Validation Loss')\n",
    "ax1.set_xlabel('Epochs')\n",
    "ax1.set_ylabel('Loss')\n",
    "ax1.grid()\n",
    "ax1.legend()\n",
    "\n",
    "mae = history_dict['mae']\n",
    "val_mae = history_dict['val_mae']\n",
    "\n",
    "ax2 = fig.add_subplot(1, 2, 2)\n",
    "ax2.plot(epochs, mae, 'b-', label='train_mae')\n",
    "ax2.plot(epochs, val_mae, 'r-', label='val_mae')\n",
    "ax2.set_title('Train and Validation MAE')\n",
    "ax2.set_xlabel('Epochs')\n",
    "ax2.set_ylabel('Accuracy')\n",
    "ax2.grid()\n",
    "ax2.legend()\n",
    "\n",
    "plt.show()"
   ]
  },
  {
   "cell_type": "markdown",
   "id": "face379e",
   "metadata": {},
   "source": [
    "### 모델 평가 및 예측\n",
    "- 테스트 데이터를 가져와 모델 성능을 평가해 보겠습니다."
   ]
  },
  {
   "cell_type": "code",
   "execution_count": 8,
   "id": "cfcbaf72",
   "metadata": {},
   "outputs": [
    {
     "name": "stdout",
     "output_type": "stream",
     "text": [
      "4/4 [==============================] - 0s 3ms/step - loss: 20.9374 - mae: 2.8052\n"
     ]
    },
    {
     "data": {
      "text/plain": [
       "[20.937442779541016, 2.8052003383636475]"
      ]
     },
     "execution_count": 8,
     "metadata": {},
     "output_type": "execute_result"
    }
   ],
   "source": [
    "model.evaluate(test_data, test_labels)"
   ]
  },
  {
   "cell_type": "code",
   "execution_count": 9,
   "id": "ba6696cd",
   "metadata": {},
   "outputs": [],
   "source": [
    "pred_data = model.predict(test_data)"
   ]
  },
  {
   "cell_type": "code",
   "execution_count": 10,
   "id": "7d54ef53",
   "metadata": {
    "scrolled": true
   },
   "outputs": [
    {
     "data": {
      "image/png": "[encoded data removed]",
      "text/plain": [
       "<Figure size 432x288 with 1 Axes>"
      ]
     },
     "metadata": {},
     "output_type": "display_data"
    }
   ],
   "source": [
    "test_predictions = model.predict(test_data).flatten()\n",
    "\n",
    "plt.scatter(test_labels, test_predictions)\n",
    "plt.xlabel('True Values')\n",
    "plt.ylabel('Predictions')\n",
    "plt.axis('equal')\n",
    "plt.axis('square')\n",
    "plt.xlim([0,plt.xlim()[1]])\n",
    "plt.ylim([0,plt.ylim()[1]])\n",
    "_ = plt.plot([-100, 100], [-100, 100])"
   ]
  },
  {
   "cell_type": "code",
   "execution_count": 11,
   "id": "5796a58d",
   "metadata": {},
   "outputs": [
    {
     "data": {
      "image/png": "[encoded data removed]",
      "text/plain": [
       "<Figure size 432x288 with 1 Axes>"
      ]
     },
     "metadata": {},
     "output_type": "display_data"
    }
   ],
   "source": [
    "error = test_predictions - test_labels\n",
    "plt.hist(error, bins = 25)\n",
    "plt.xlabel(\"Prediction Error\")\n",
    "_ = plt.ylabel(\"Count\")"
   ]
  },
  {
   "cell_type": "markdown",
   "id": "a6ac801e",
   "metadata": {},
   "source": [
    "참고 링크 : https://www.tensorflow.org/tutorials/keras/regression?hl=ko"
   ]
  }
 ],
 "metadata": {
  "kernelspec": {
   "display_name": "Python 3 (ipykernel)",
   "language": "python",
   "name": "python3"
  },
  "language_info": {
   "codemirror_mode": {
    "name": "ipython",
    "version": 3
   },
   "file_extension": ".py",
   "mimetype": "text/x-python",
   "name": "python",
   "nbconvert_exporter": "python",
   "pygments_lexer": "ipython3",
   "version": "3.9.7"
  }
 },
 "nbformat": 4,
 "nbformat_minor": 5
}
